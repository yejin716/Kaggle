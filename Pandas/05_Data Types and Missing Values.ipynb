{
 "cells": [
  {
   "cell_type": "code",
   "execution_count": 1,
   "metadata": {},
   "outputs": [],
   "source": [
    "import pandas as pd \n",
    "\n",
    "reviews = pd.read_csv('../../data/winemag-data-130k-v2.csv', index_col=0)"
   ]
  },
  {
   "cell_type": "code",
   "execution_count": 2,
   "metadata": {},
   "outputs": [
    {
     "data": {
      "text/plain": [
       "dtype('float64')"
      ]
     },
     "execution_count": 2,
     "metadata": {},
     "output_type": "execute_result"
    }
   ],
   "source": [
    "reviews['price'].dtype\n",
    "#price의 값의 데이터 타입 반환 "
   ]
  },
  {
   "cell_type": "code",
   "execution_count": 3,
   "metadata": {},
   "outputs": [
    {
     "data": {
      "text/plain": [
       "country                   object\n",
       "description               object\n",
       "designation               object\n",
       "points                     int64\n",
       "price                    float64\n",
       "province                  object\n",
       "region_1                  object\n",
       "region_2                  object\n",
       "taster_name               object\n",
       "taster_twitter_handle     object\n",
       "title                     object\n",
       "variety                   object\n",
       "winery                    object\n",
       "dtype: object"
      ]
     },
     "execution_count": 3,
     "metadata": {},
     "output_type": "execute_result"
    }
   ],
   "source": [
    "reviews.dtypes"
   ]
  },
  {
   "cell_type": "code",
   "execution_count": 4,
   "metadata": {},
   "outputs": [
    {
     "data": {
      "text/plain": [
       "0         87.0\n",
       "1         87.0\n",
       "2         87.0\n",
       "3         87.0\n",
       "4         87.0\n",
       "          ... \n",
       "129966    90.0\n",
       "129967    90.0\n",
       "129968    90.0\n",
       "129969    90.0\n",
       "129970    90.0\n",
       "Name: points, Length: 129971, dtype: float64"
      ]
     },
     "execution_count": 4,
     "metadata": {},
     "output_type": "execute_result"
    }
   ],
   "source": [
    "reviews.points.astype('float64')\n",
    "#astype >> 타입 변경 "
   ]
  },
  {
   "cell_type": "code",
   "execution_count": 5,
   "metadata": {},
   "outputs": [
    {
     "data": {
      "text/plain": [
       "dtype('int64')"
      ]
     },
     "execution_count": 5,
     "metadata": {},
     "output_type": "execute_result"
    }
   ],
   "source": [
    "reviews.index.dtype"
   ]
  },
  {
   "cell_type": "code",
   "execution_count": 6,
   "metadata": {},
   "outputs": [
    {
     "data": {
      "text/html": [
       "<div>\n",
       "<style scoped>\n",
       "    .dataframe tbody tr th:only-of-type {\n",
       "        vertical-align: middle;\n",
       "    }\n",
       "\n",
       "    .dataframe tbody tr th {\n",
       "        vertical-align: top;\n",
       "    }\n",
       "\n",
       "    .dataframe thead th {\n",
       "        text-align: right;\n",
       "    }\n",
       "</style>\n",
       "<table border=\"1\" class=\"dataframe\">\n",
       "  <thead>\n",
       "    <tr style=\"text-align: right;\">\n",
       "      <th></th>\n",
       "      <th>country</th>\n",
       "      <th>description</th>\n",
       "      <th>designation</th>\n",
       "      <th>points</th>\n",
       "      <th>price</th>\n",
       "      <th>province</th>\n",
       "      <th>region_1</th>\n",
       "      <th>region_2</th>\n",
       "      <th>taster_name</th>\n",
       "      <th>taster_twitter_handle</th>\n",
       "      <th>title</th>\n",
       "      <th>variety</th>\n",
       "      <th>winery</th>\n",
       "    </tr>\n",
       "  </thead>\n",
       "  <tbody>\n",
       "    <tr>\n",
       "      <th>913</th>\n",
       "      <td>NaN</td>\n",
       "      <td>Amber in color, this wine has aromas of peach ...</td>\n",
       "      <td>Asureti Valley</td>\n",
       "      <td>87</td>\n",
       "      <td>30.0</td>\n",
       "      <td>NaN</td>\n",
       "      <td>NaN</td>\n",
       "      <td>NaN</td>\n",
       "      <td>Mike DeSimone</td>\n",
       "      <td>@worldwineguys</td>\n",
       "      <td>Gotsa Family Wines 2014 Asureti Valley Chinuri</td>\n",
       "      <td>Chinuri</td>\n",
       "      <td>Gotsa Family Wines</td>\n",
       "    </tr>\n",
       "    <tr>\n",
       "      <th>3131</th>\n",
       "      <td>NaN</td>\n",
       "      <td>Soft, fruity and juicy, this is a pleasant, si...</td>\n",
       "      <td>Partager</td>\n",
       "      <td>83</td>\n",
       "      <td>NaN</td>\n",
       "      <td>NaN</td>\n",
       "      <td>NaN</td>\n",
       "      <td>NaN</td>\n",
       "      <td>Roger Voss</td>\n",
       "      <td>@vossroger</td>\n",
       "      <td>Barton &amp; Guestier NV Partager Red</td>\n",
       "      <td>Red Blend</td>\n",
       "      <td>Barton &amp; Guestier</td>\n",
       "    </tr>\n",
       "    <tr>\n",
       "      <th>4243</th>\n",
       "      <td>NaN</td>\n",
       "      <td>Violet-red in color, this semisweet wine has a...</td>\n",
       "      <td>Red Naturally Semi-Sweet</td>\n",
       "      <td>88</td>\n",
       "      <td>18.0</td>\n",
       "      <td>NaN</td>\n",
       "      <td>NaN</td>\n",
       "      <td>NaN</td>\n",
       "      <td>Mike DeSimone</td>\n",
       "      <td>@worldwineguys</td>\n",
       "      <td>Kakhetia Traditional Winemaking 2012 Red Natur...</td>\n",
       "      <td>Ojaleshi</td>\n",
       "      <td>Kakhetia Traditional Winemaking</td>\n",
       "    </tr>\n",
       "    <tr>\n",
       "      <th>9509</th>\n",
       "      <td>NaN</td>\n",
       "      <td>This mouthwatering blend starts with a nose of...</td>\n",
       "      <td>Theopetra Malagouzia-Assyrtiko</td>\n",
       "      <td>92</td>\n",
       "      <td>28.0</td>\n",
       "      <td>NaN</td>\n",
       "      <td>NaN</td>\n",
       "      <td>NaN</td>\n",
       "      <td>Susan Kostrzewa</td>\n",
       "      <td>@suskostrzewa</td>\n",
       "      <td>Tsililis 2015 Theopetra Malagouzia-Assyrtiko W...</td>\n",
       "      <td>White Blend</td>\n",
       "      <td>Tsililis</td>\n",
       "    </tr>\n",
       "    <tr>\n",
       "      <th>9750</th>\n",
       "      <td>NaN</td>\n",
       "      <td>This orange-style wine has a cloudy yellow-gol...</td>\n",
       "      <td>Orange Nikolaevo Vineyard</td>\n",
       "      <td>89</td>\n",
       "      <td>28.0</td>\n",
       "      <td>NaN</td>\n",
       "      <td>NaN</td>\n",
       "      <td>NaN</td>\n",
       "      <td>Jeff Jenssen</td>\n",
       "      <td>@worldwineguys</td>\n",
       "      <td>Ross-idi 2015 Orange Nikolaevo Vineyard Chardo...</td>\n",
       "      <td>Chardonnay</td>\n",
       "      <td>Ross-idi</td>\n",
       "    </tr>\n",
       "    <tr>\n",
       "      <th>...</th>\n",
       "      <td>...</td>\n",
       "      <td>...</td>\n",
       "      <td>...</td>\n",
       "      <td>...</td>\n",
       "      <td>...</td>\n",
       "      <td>...</td>\n",
       "      <td>...</td>\n",
       "      <td>...</td>\n",
       "      <td>...</td>\n",
       "      <td>...</td>\n",
       "      <td>...</td>\n",
       "      <td>...</td>\n",
       "      <td>...</td>\n",
       "    </tr>\n",
       "    <tr>\n",
       "      <th>124176</th>\n",
       "      <td>NaN</td>\n",
       "      <td>This Swiss red blend is composed of four varie...</td>\n",
       "      <td>Les Romaines</td>\n",
       "      <td>90</td>\n",
       "      <td>30.0</td>\n",
       "      <td>NaN</td>\n",
       "      <td>NaN</td>\n",
       "      <td>NaN</td>\n",
       "      <td>Jeff Jenssen</td>\n",
       "      <td>@worldwineguys</td>\n",
       "      <td>Les Frères Dutruy 2014 Les Romaines Red</td>\n",
       "      <td>Red Blend</td>\n",
       "      <td>Les Frères Dutruy</td>\n",
       "    </tr>\n",
       "    <tr>\n",
       "      <th>129407</th>\n",
       "      <td>NaN</td>\n",
       "      <td>Dry spicy aromas of dusty plum and tomato add ...</td>\n",
       "      <td>Reserve</td>\n",
       "      <td>89</td>\n",
       "      <td>22.0</td>\n",
       "      <td>NaN</td>\n",
       "      <td>NaN</td>\n",
       "      <td>NaN</td>\n",
       "      <td>Michael Schachner</td>\n",
       "      <td>@wineschach</td>\n",
       "      <td>El Capricho 2015 Reserve Cabernet Sauvignon</td>\n",
       "      <td>Cabernet Sauvignon</td>\n",
       "      <td>El Capricho</td>\n",
       "    </tr>\n",
       "    <tr>\n",
       "      <th>129408</th>\n",
       "      <td>NaN</td>\n",
       "      <td>El Capricho is one of Uruguay's more consisten...</td>\n",
       "      <td>Reserve</td>\n",
       "      <td>89</td>\n",
       "      <td>22.0</td>\n",
       "      <td>NaN</td>\n",
       "      <td>NaN</td>\n",
       "      <td>NaN</td>\n",
       "      <td>Michael Schachner</td>\n",
       "      <td>@wineschach</td>\n",
       "      <td>El Capricho 2015 Reserve Tempranillo</td>\n",
       "      <td>Tempranillo</td>\n",
       "      <td>El Capricho</td>\n",
       "    </tr>\n",
       "    <tr>\n",
       "      <th>129590</th>\n",
       "      <td>NaN</td>\n",
       "      <td>A blend of 60% Syrah, 30% Cabernet Sauvignon a...</td>\n",
       "      <td>Shah</td>\n",
       "      <td>90</td>\n",
       "      <td>30.0</td>\n",
       "      <td>NaN</td>\n",
       "      <td>NaN</td>\n",
       "      <td>NaN</td>\n",
       "      <td>Mike DeSimone</td>\n",
       "      <td>@worldwineguys</td>\n",
       "      <td>Büyülübağ 2012 Shah Red</td>\n",
       "      <td>Red Blend</td>\n",
       "      <td>Büyülübağ</td>\n",
       "    </tr>\n",
       "    <tr>\n",
       "      <th>129900</th>\n",
       "      <td>NaN</td>\n",
       "      <td>This wine offers a delightful bouquet of black...</td>\n",
       "      <td>NaN</td>\n",
       "      <td>91</td>\n",
       "      <td>32.0</td>\n",
       "      <td>NaN</td>\n",
       "      <td>NaN</td>\n",
       "      <td>NaN</td>\n",
       "      <td>Mike DeSimone</td>\n",
       "      <td>@worldwineguys</td>\n",
       "      <td>Psagot 2014 Merlot</td>\n",
       "      <td>Merlot</td>\n",
       "      <td>Psagot</td>\n",
       "    </tr>\n",
       "  </tbody>\n",
       "</table>\n",
       "<p>63 rows × 13 columns</p>\n",
       "</div>"
      ],
      "text/plain": [
       "       country                                        description  \\\n",
       "913        NaN  Amber in color, this wine has aromas of peach ...   \n",
       "3131       NaN  Soft, fruity and juicy, this is a pleasant, si...   \n",
       "4243       NaN  Violet-red in color, this semisweet wine has a...   \n",
       "9509       NaN  This mouthwatering blend starts with a nose of...   \n",
       "9750       NaN  This orange-style wine has a cloudy yellow-gol...   \n",
       "...        ...                                                ...   \n",
       "124176     NaN  This Swiss red blend is composed of four varie...   \n",
       "129407     NaN  Dry spicy aromas of dusty plum and tomato add ...   \n",
       "129408     NaN  El Capricho is one of Uruguay's more consisten...   \n",
       "129590     NaN  A blend of 60% Syrah, 30% Cabernet Sauvignon a...   \n",
       "129900     NaN  This wine offers a delightful bouquet of black...   \n",
       "\n",
       "                           designation  points  price province region_1  \\\n",
       "913                     Asureti Valley      87   30.0      NaN      NaN   \n",
       "3131                          Partager      83    NaN      NaN      NaN   \n",
       "4243          Red Naturally Semi-Sweet      88   18.0      NaN      NaN   \n",
       "9509    Theopetra Malagouzia-Assyrtiko      92   28.0      NaN      NaN   \n",
       "9750         Orange Nikolaevo Vineyard      89   28.0      NaN      NaN   \n",
       "...                                ...     ...    ...      ...      ...   \n",
       "124176                    Les Romaines      90   30.0      NaN      NaN   \n",
       "129407                         Reserve      89   22.0      NaN      NaN   \n",
       "129408                         Reserve      89   22.0      NaN      NaN   \n",
       "129590                            Shah      90   30.0      NaN      NaN   \n",
       "129900                             NaN      91   32.0      NaN      NaN   \n",
       "\n",
       "       region_2        taster_name taster_twitter_handle  \\\n",
       "913         NaN      Mike DeSimone        @worldwineguys   \n",
       "3131        NaN         Roger Voss            @vossroger   \n",
       "4243        NaN      Mike DeSimone        @worldwineguys   \n",
       "9509        NaN    Susan Kostrzewa         @suskostrzewa   \n",
       "9750        NaN       Jeff Jenssen        @worldwineguys   \n",
       "...         ...                ...                   ...   \n",
       "124176      NaN       Jeff Jenssen        @worldwineguys   \n",
       "129407      NaN  Michael Schachner           @wineschach   \n",
       "129408      NaN  Michael Schachner           @wineschach   \n",
       "129590      NaN      Mike DeSimone        @worldwineguys   \n",
       "129900      NaN      Mike DeSimone        @worldwineguys   \n",
       "\n",
       "                                                    title             variety  \\\n",
       "913        Gotsa Family Wines 2014 Asureti Valley Chinuri             Chinuri   \n",
       "3131                    Barton & Guestier NV Partager Red           Red Blend   \n",
       "4243    Kakhetia Traditional Winemaking 2012 Red Natur...            Ojaleshi   \n",
       "9509    Tsililis 2015 Theopetra Malagouzia-Assyrtiko W...         White Blend   \n",
       "9750    Ross-idi 2015 Orange Nikolaevo Vineyard Chardo...          Chardonnay   \n",
       "...                                                   ...                 ...   \n",
       "124176            Les Frères Dutruy 2014 Les Romaines Red           Red Blend   \n",
       "129407        El Capricho 2015 Reserve Cabernet Sauvignon  Cabernet Sauvignon   \n",
       "129408               El Capricho 2015 Reserve Tempranillo         Tempranillo   \n",
       "129590                            Büyülübağ 2012 Shah Red           Red Blend   \n",
       "129900                                 Psagot 2014 Merlot              Merlot   \n",
       "\n",
       "                                 winery  \n",
       "913                  Gotsa Family Wines  \n",
       "3131                  Barton & Guestier  \n",
       "4243    Kakhetia Traditional Winemaking  \n",
       "9509                           Tsililis  \n",
       "9750                           Ross-idi  \n",
       "...                                 ...  \n",
       "124176                Les Frères Dutruy  \n",
       "129407                      El Capricho  \n",
       "129408                      El Capricho  \n",
       "129590                        Büyülübağ  \n",
       "129900                           Psagot  \n",
       "\n",
       "[63 rows x 13 columns]"
      ]
     },
     "execution_count": 6,
     "metadata": {},
     "output_type": "execute_result"
    }
   ],
   "source": [
    "#결측치 확인 \n",
    "reviews[pd.isnull(reviews['country'])]\n",
    "#insull >> 널 값임"
   ]
  },
  {
   "cell_type": "code",
   "execution_count": 7,
   "metadata": {},
   "outputs": [
    {
     "data": {
      "text/plain": [
       "0                   Unknown\n",
       "1                   Unknown\n",
       "2         Willamette Valley\n",
       "3                   Unknown\n",
       "4         Willamette Valley\n",
       "                ...        \n",
       "129966              Unknown\n",
       "129967         Oregon Other\n",
       "129968              Unknown\n",
       "129969              Unknown\n",
       "129970              Unknown\n",
       "Name: region_2, Length: 129971, dtype: object"
      ]
     },
     "execution_count": 7,
     "metadata": {},
     "output_type": "execute_result"
    }
   ],
   "source": [
    "reviews.region_2.fillna(\"Unknown\")\n",
    "#fillna() >> 결측치 값을 ()안에 입력한 값으로 채우자 "
   ]
  },
  {
   "cell_type": "code",
   "execution_count": 8,
   "metadata": {},
   "outputs": [
    {
     "data": {
      "text/plain": [
       "0             @kerino\n",
       "1          @vossroger\n",
       "2         @paulgwine \n",
       "3                 NaN\n",
       "4         @paulgwine \n",
       "             ...     \n",
       "129966            NaN\n",
       "129967    @paulgwine \n",
       "129968     @vossroger\n",
       "129969     @vossroger\n",
       "129970     @vossroger\n",
       "Name: taster_twitter_handle, Length: 129971, dtype: object"
      ]
     },
     "execution_count": 8,
     "metadata": {},
     "output_type": "execute_result"
    }
   ],
   "source": [
    "reviews['taster_twitter_handle'].replace(\"@kerinokeefe\", \"@kerino\")\n",
    "#replace(\"바꾸고 싶은 값\", \"바꿀 값\")"
   ]
  },
  {
   "cell_type": "code",
   "execution_count": null,
   "metadata": {},
   "outputs": [],
   "source": []
  },
  {
   "cell_type": "code",
   "execution_count": null,
   "metadata": {},
   "outputs": [],
   "source": []
  },
  {
   "cell_type": "code",
   "execution_count": null,
   "metadata": {},
   "outputs": [],
   "source": []
  },
  {
   "cell_type": "code",
   "execution_count": null,
   "metadata": {},
   "outputs": [],
   "source": []
  },
  {
   "cell_type": "code",
   "execution_count": null,
   "metadata": {},
   "outputs": [],
   "source": []
  },
  {
   "cell_type": "code",
   "execution_count": null,
   "metadata": {},
   "outputs": [],
   "source": []
  }
 ],
 "metadata": {
  "kernelspec": {
   "display_name": "base",
   "language": "python",
   "name": "python3"
  },
  "language_info": {
   "codemirror_mode": {
    "name": "ipython",
    "version": 3
   },
   "file_extension": ".py",
   "mimetype": "text/x-python",
   "name": "python",
   "nbconvert_exporter": "python",
   "pygments_lexer": "ipython3",
   "version": "3.11.7"
  }
 },
 "nbformat": 4,
 "nbformat_minor": 2
}

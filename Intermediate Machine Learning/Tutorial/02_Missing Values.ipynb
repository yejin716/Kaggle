{
 "cells": [
  {
   "cell_type": "code",
   "execution_count": 5,
   "metadata": {},
   "outputs": [],
   "source": [
    "import pandas as pd \n",
    "from sklearn.model_selection import train_test_split\n",
    "\n",
    "data = pd.read_csv('../../data/melb_data.csv')\n",
    "\n",
    "# 독립변수 / 종속변수 분리 \n",
    "y = data.Price  #종속변수\n",
    "\n",
    "#독립변수 \n",
    "melb_pred = data.drop(['Price'], axis=1) # 종속변수제외한 열 가져오기\n",
    "x = melb_pred.select_dtypes(exclude=['object']) #데이터타입이 object를 제외한 열 가져오기 \n",
    "\n",
    "#훈련용 / 검증용 데이터 분리\n",
    "x_train, x_test, y_train, y_test =\\\n",
    "train_test_split(x, y, train_size=0.8, test_size=0.2, random_state=0)"
   ]
  },
  {
   "cell_type": "code",
   "execution_count": 6,
   "metadata": {},
   "outputs": [],
   "source": [
    "#랜덤포레스트 모델 함수 \n",
    "\n",
    "from sklearn.ensemble import RandomForestRegressor\n",
    "from sklearn.metrics import mean_absolute_error\n",
    "\n",
    "def score_dataset(x_train, x_test, y_train, y_test):\n",
    "    #모델 구축\n",
    "    model = RandomForestRegressor(n_estimators=10, random_state=0)\n",
    "    model.fit(x_train, y_train)\n",
    "    y_pred = model.predict(x_test)\n",
    "    return mean_absolute_error(y_test, y_pred)\n",
    "    "
   ]
  },
  {
   "cell_type": "code",
   "execution_count": 9,
   "metadata": {},
   "outputs": [
    {
     "name": "stdout",
     "output_type": "stream",
     "text": [
      "랜덤포레스트 모델의 mae값(결측값이 있는 열 삭제):  183550.22137772635\n"
     ]
    }
   ],
   "source": [
    "# 1. 결측치 처리 >> 삭제\n",
    "#결측치가 존재하는 열 >> cols_miss\n",
    "cols_miss = [col for col in x_train.columns if x_train[col].isnull().any()]\n",
    "\n",
    "# x_train의 열중에 결측치가 존재하면 제외하겠다. \n",
    "reduced_x_train = x_train.drop(cols_miss, axis=1)\n",
    "reduced_x_test = x_test.drop(cols_miss, axis=1)\n",
    "\n",
    "print('랜덤포레스트 모델의 mae값(결측값이 있는 열 삭제): ', score_dataset(reduced_x_train, reduced_x_test, y_train, y_test))\n",
    "\n"
   ]
  },
  {
   "cell_type": "code",
   "execution_count": 12,
   "metadata": {},
   "outputs": [
    {
     "name": "stdout",
     "output_type": "stream",
     "text": [
      "Imputer를 이용한 MAE 값:  178166.46269899711\n"
     ]
    }
   ],
   "source": [
    "# 2. 결측치 처리 >> 평균값 대치\n",
    "#Simplelmputer 사용하여 결측치를 평균값으로 대체 \n",
    "\n",
    "from sklearn.impute import SimpleImputer\n",
    "\n",
    "si = SimpleImputer()\n",
    "imputed_x_train = pd.DataFrame(si.fit_transform(x_train))\n",
    "imputed_x_test = pd.DataFrame(si.transform(x_test))\n",
    "\n",
    "imputed_x_train.columns = x_train.columns\n",
    "imputed_x_test.columns = x_test.columns\n",
    "\n",
    "print('Imputer를 이용한 MAE 값: ', score_dataset(imputed_x_train,imputed_x_test, y_train, y_test))\n",
    "\n",
    "# Imputer를 이용한 mae값이 랜덤포레스트보다 낮아서 성능이 더 좋은것 확인 "
   ]
  },
  {
   "cell_type": "code",
   "execution_count": 13,
   "metadata": {},
   "outputs": [
    {
     "name": "stdout",
     "output_type": "stream",
     "text": [
      "확장 MAE:\n",
      "178927.503183954\n"
     ]
    }
   ],
   "source": [
    "# 3. 결측치 처리 >> 값으로 대치 \n",
    "\n",
    "x_train_plus = x_train.copy()\n",
    "x_test_plus = x_test.copy()\n",
    "\n",
    "#결측치가 있는 열을 새 열로 만들어서 담기 \n",
    "for col in cols_miss:\n",
    "    x_train_plus[col + '_was_missing'] = x_train_plus[col].isnull()\n",
    "    x_test_plus[col + '_was_missing'] = x_test_plus[col].isnull()\n",
    "    \n",
    "si = SimpleImputer()\n",
    "imputed_x_train_plus = pd.DataFrame(si.fit_transform(x_train_plus))\n",
    "imputed_x_test_plus = pd.DataFrame(si.transform(x_test_plus))\n",
    "\n",
    "imputed_x_train_plus.columns = x_train_plus.columns\n",
    "imputed_x_test_plus.columns = x_test_plus.columns\n",
    "\n",
    "print(\"확장 MAE:\")\n",
    "print(score_dataset(imputed_x_train_plus, imputed_x_test_plus, y_train, y_test))\n",
    "\n",
    "# 3은 2보다 성능이 약간 나쁘게 나옴 \n",
    "#삭제보다 대치가 더 성능을 발휘하는 이유\n",
    "# 삭제를 하게되면 유용한 정보가 제거가 되어 데이터를 살리고 대치를 하는것이 성능이 더 좋아짐\n",
    "    \n"
   ]
  },
  {
   "cell_type": "code",
   "execution_count": 14,
   "metadata": {},
   "outputs": [
    {
     "name": "stdout",
     "output_type": "stream",
     "text": [
      "(10864, 12)\n",
      "Car               49\n",
      "BuildingArea    5156\n",
      "YearBuilt       4307\n",
      "dtype: int64\n"
     ]
    }
   ],
   "source": [
    "print(x_train.shape)\n",
    "\n",
    "# 학습 데이터의 결측치 개수 \n",
    "missing_val_count_by_column = (x_train.isnull().sum())\n",
    "print(missing_val_count_by_column[missing_val_count_by_column > 0])"
   ]
  },
  {
   "cell_type": "code",
   "execution_count": null,
   "metadata": {},
   "outputs": [],
   "source": []
  },
  {
   "cell_type": "code",
   "execution_count": null,
   "metadata": {},
   "outputs": [],
   "source": []
  }
 ],
 "metadata": {
  "kernelspec": {
   "display_name": "base",
   "language": "python",
   "name": "python3"
  },
  "language_info": {
   "codemirror_mode": {
    "name": "ipython",
    "version": 3
   },
   "file_extension": ".py",
   "mimetype": "text/x-python",
   "name": "python",
   "nbconvert_exporter": "python",
   "pygments_lexer": "ipython3",
   "version": "3.11.7"
  }
 },
 "nbformat": 4,
 "nbformat_minor": 2
}

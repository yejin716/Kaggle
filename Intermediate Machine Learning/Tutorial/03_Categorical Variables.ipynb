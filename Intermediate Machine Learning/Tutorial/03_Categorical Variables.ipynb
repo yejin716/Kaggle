{
 "cells": [
  {
   "cell_type": "code",
   "execution_count": 18,
   "metadata": {},
   "outputs": [],
   "source": [
    "#숫자 데이터가 아닌 범주형 데이터가 있는 경우가 있다 \n",
    "#범주형 데이터를 처리하는 모델 알아보자 \n",
    "\n",
    "import pandas as pd \n",
    "from sklearn.model_selection import train_test_split\n",
    "\n",
    "data = pd.read_csv('../../data/melb_data.csv')\n",
    "\n",
    "# 독립변수 / 종속변수 분리 \n",
    "y = data.Price  #종속변수\n",
    "x = data.drop(['Price'], axis=1)\n",
    "\n",
    "#훈련용 / 검증용 데이터 분리\n",
    "x_train, x_test, y_train, y_test =\\\n",
    "train_test_split(x, y, train_size=0.8, test_size=0.2, random_state=0)\n",
    "\n",
    "# 결측치가 있는 열 삭제\n",
    "cols_with_missing = [col for col in x_train.columns if x_train[col].isnull().any()] \n",
    "x_train.drop(cols_with_missing, axis=1, inplace=True)\n",
    "x_test.drop(cols_with_missing, axis=1, inplace=True)\n",
    "\n",
    "# 카디널리티는 열의 고유 값 수를 의미 \n",
    "#상대적으로 카디널리티가 낮은 범주형 열을 선택함(임의적)\n",
    "\n",
    "#훈련데이터의 열의 고윳값이 10보다 작고 데이터 타입이 object인 열 >> low_cardinality_cols\n",
    "low_cardinality_cols = [cname for cname in x_train.columns if x_train[cname].nunique() < 10\n",
    "                        and x_train[cname].dtype == 'object']\n",
    "\n",
    "#숫자형 데이터\n",
    "numerical_cols = [cname for cname in x_train.columns if x_train[cname].dtype in ['int64', 'float64']]\n",
    "\n",
    "# 선택한 열만 유지 \n",
    "my_cols = low_cardinality_cols + numerical_cols\n",
    "x_train = x_train[my_cols].copy()\n",
    "x_test = x_test[my_cols].copy()\n"
   ]
  },
  {
   "cell_type": "code",
   "execution_count": 19,
   "metadata": {},
   "outputs": [
    {
     "data": {
      "text/html": [
       "<div>\n",
       "<style scoped>\n",
       "    .dataframe tbody tr th:only-of-type {\n",
       "        vertical-align: middle;\n",
       "    }\n",
       "\n",
       "    .dataframe tbody tr th {\n",
       "        vertical-align: top;\n",
       "    }\n",
       "\n",
       "    .dataframe thead th {\n",
       "        text-align: right;\n",
       "    }\n",
       "</style>\n",
       "<table border=\"1\" class=\"dataframe\">\n",
       "  <thead>\n",
       "    <tr style=\"text-align: right;\">\n",
       "      <th></th>\n",
       "      <th>Type</th>\n",
       "      <th>Method</th>\n",
       "      <th>Regionname</th>\n",
       "      <th>Rooms</th>\n",
       "      <th>Distance</th>\n",
       "      <th>Postcode</th>\n",
       "      <th>Bedroom2</th>\n",
       "      <th>Bathroom</th>\n",
       "      <th>Landsize</th>\n",
       "      <th>Lattitude</th>\n",
       "      <th>Longtitude</th>\n",
       "      <th>Propertycount</th>\n",
       "    </tr>\n",
       "  </thead>\n",
       "  <tbody>\n",
       "    <tr>\n",
       "      <th>12167</th>\n",
       "      <td>u</td>\n",
       "      <td>S</td>\n",
       "      <td>Southern Metropolitan</td>\n",
       "      <td>1</td>\n",
       "      <td>5.0</td>\n",
       "      <td>3182.0</td>\n",
       "      <td>1.0</td>\n",
       "      <td>1.0</td>\n",
       "      <td>0.0</td>\n",
       "      <td>-37.85984</td>\n",
       "      <td>144.9867</td>\n",
       "      <td>13240.0</td>\n",
       "    </tr>\n",
       "    <tr>\n",
       "      <th>6524</th>\n",
       "      <td>h</td>\n",
       "      <td>SA</td>\n",
       "      <td>Western Metropolitan</td>\n",
       "      <td>2</td>\n",
       "      <td>8.0</td>\n",
       "      <td>3016.0</td>\n",
       "      <td>2.0</td>\n",
       "      <td>2.0</td>\n",
       "      <td>193.0</td>\n",
       "      <td>-37.85800</td>\n",
       "      <td>144.9005</td>\n",
       "      <td>6380.0</td>\n",
       "    </tr>\n",
       "    <tr>\n",
       "      <th>8413</th>\n",
       "      <td>h</td>\n",
       "      <td>S</td>\n",
       "      <td>Western Metropolitan</td>\n",
       "      <td>3</td>\n",
       "      <td>12.6</td>\n",
       "      <td>3020.0</td>\n",
       "      <td>3.0</td>\n",
       "      <td>1.0</td>\n",
       "      <td>555.0</td>\n",
       "      <td>-37.79880</td>\n",
       "      <td>144.8220</td>\n",
       "      <td>3755.0</td>\n",
       "    </tr>\n",
       "    <tr>\n",
       "      <th>2919</th>\n",
       "      <td>u</td>\n",
       "      <td>SP</td>\n",
       "      <td>Northern Metropolitan</td>\n",
       "      <td>3</td>\n",
       "      <td>13.0</td>\n",
       "      <td>3046.0</td>\n",
       "      <td>3.0</td>\n",
       "      <td>1.0</td>\n",
       "      <td>265.0</td>\n",
       "      <td>-37.70830</td>\n",
       "      <td>144.9158</td>\n",
       "      <td>8870.0</td>\n",
       "    </tr>\n",
       "    <tr>\n",
       "      <th>6043</th>\n",
       "      <td>h</td>\n",
       "      <td>S</td>\n",
       "      <td>Western Metropolitan</td>\n",
       "      <td>3</td>\n",
       "      <td>13.3</td>\n",
       "      <td>3020.0</td>\n",
       "      <td>3.0</td>\n",
       "      <td>1.0</td>\n",
       "      <td>673.0</td>\n",
       "      <td>-37.76230</td>\n",
       "      <td>144.8272</td>\n",
       "      <td>4217.0</td>\n",
       "    </tr>\n",
       "  </tbody>\n",
       "</table>\n",
       "</div>"
      ],
      "text/plain": [
       "      Type Method             Regionname  Rooms  Distance  Postcode  Bedroom2  \\\n",
       "12167    u      S  Southern Metropolitan      1       5.0    3182.0       1.0   \n",
       "6524     h     SA   Western Metropolitan      2       8.0    3016.0       2.0   \n",
       "8413     h      S   Western Metropolitan      3      12.6    3020.0       3.0   \n",
       "2919     u     SP  Northern Metropolitan      3      13.0    3046.0       3.0   \n",
       "6043     h      S   Western Metropolitan      3      13.3    3020.0       3.0   \n",
       "\n",
       "       Bathroom  Landsize  Lattitude  Longtitude  Propertycount  \n",
       "12167       1.0       0.0  -37.85984    144.9867        13240.0  \n",
       "6524        2.0     193.0  -37.85800    144.9005         6380.0  \n",
       "8413        1.0     555.0  -37.79880    144.8220         3755.0  \n",
       "2919        1.0     265.0  -37.70830    144.9158         8870.0  \n",
       "6043        1.0     673.0  -37.76230    144.8272         4217.0  "
      ]
     },
     "execution_count": 19,
     "metadata": {},
     "output_type": "execute_result"
    }
   ],
   "source": [
    "x_train.head()"
   ]
  },
  {
   "cell_type": "code",
   "execution_count": 20,
   "metadata": {},
   "outputs": [
    {
     "name": "stdout",
     "output_type": "stream",
     "text": [
      "Categorical variables:\n",
      "['Type', 'Method', 'Regionname']\n"
     ]
    }
   ],
   "source": [
    "s = (x_train.dtypes == 'object')\n",
    "object_cols = list(s[s].index)\n",
    "print(\"Categorical variables:\")\n",
    "print(object_cols)"
   ]
  },
  {
   "cell_type": "code",
   "execution_count": 21,
   "metadata": {},
   "outputs": [],
   "source": [
    "#랜덤포레스트 모델 함수 \n",
    "\n",
    "from sklearn.ensemble import RandomForestRegressor\n",
    "from sklearn.metrics import mean_absolute_error\n",
    "\n",
    "def score_dataset(x_train, x_test, y_train, y_test):\n",
    "    #모델 구축\n",
    "    model = RandomForestRegressor(n_estimators=10, random_state=0)\n",
    "    model.fit(x_train, y_train)\n",
    "    y_pred = model.predict(x_test)\n",
    "    return mean_absolute_error(y_test, y_pred)\n",
    "    "
   ]
  },
  {
   "cell_type": "code",
   "execution_count": 22,
   "metadata": {},
   "outputs": [
    {
     "name": "stdout",
     "output_type": "stream",
     "text": [
      "접근법 1의 MAE(범주형 변수 삭제):  183550.22137772635\n"
     ]
    }
   ],
   "source": [
    "# 접근법 1 (범주형 변수 삭제)\n",
    "drop_x_train = x_train.select_dtypes(exclude=['object'])\n",
    "drop_x_test = x_test.select_dtypes(exclude=['object'])\n",
    "\n",
    "print(\"접근법 1의 MAE(범주형 변수 삭제): \", \n",
    "      score_dataset(drop_x_train, drop_x_test, y_train, y_test))\n"
   ]
  },
  {
   "cell_type": "code",
   "execution_count": 23,
   "metadata": {},
   "outputs": [
    {
     "name": "stdout",
     "output_type": "stream",
     "text": [
      "접근법 2의 MAE(서수인코딩 ) : 175062.2967599411\n"
     ]
    }
   ],
   "source": [
    "# 접근법 2 >>  ordinal encoding (서수 인코딩)\n",
    "# 순서형 범주형 데이터일 경우 적용\n",
    "\n",
    "from sklearn.preprocessing import OrdinalEncoder\n",
    "\n",
    "label_x_train = x_train.copy()\n",
    "label_x_test = x_test.copy()\n",
    "\n",
    "oe = OrdinalEncoder()\n",
    "label_x_train[object_cols] = oe.fit_transform(x_train[object_cols])\n",
    "label_x_test[object_cols] = oe.transform(x_test[object_cols])\n",
    "\n",
    "print('접근법 2의 MAE(서수인코딩 ) :',score_dataset(label_x_train, label_x_test, y_train, y_test))\n"
   ]
  },
  {
   "cell_type": "code",
   "execution_count": 26,
   "metadata": {},
   "outputs": [
    {
     "name": "stdout",
     "output_type": "stream",
     "text": [
      "접근법 3의 MAE(원핫인코딩 ) : 176703.63810751104\n"
     ]
    }
   ],
   "source": [
    "# 접근법 3 >> OneHot encoding(원핫인코딩)\n",
    "# 0과 1로만 인코딩 \n",
    "\n",
    "from sklearn.preprocessing import OneHotEncoder\n",
    "\n",
    "ohe = OneHotEncoder(handle_unknown='ignore', sparse_output=False)\n",
    "ohe_x_train = pd.DataFrame(ohe.fit_transform(x_train[object_cols]))\n",
    "ohe_x_test = pd.DataFrame(ohe.transform(x_test[object_cols]))\n",
    "\n",
    "#원핫인코딩 제거 인덱스 \n",
    "ohe_x_train.index = x_train.index\n",
    "ohe_x_test.index = x_test.index\n",
    "\n",
    "#원핫 인코딩으로 대체됨 (범주형 데이터 열 제거)\n",
    "num_x_train = x_train.drop(object_cols, axis=1)\n",
    "num_x_test = x_test.drop(object_cols, axis=1)\n",
    "\n",
    "#숫자 특성에 원-핫 인코딩된 열 추가\n",
    "OH_x_train = pd.concat([num_x_train, ohe_x_train], axis=1)\n",
    "OH_x_test = pd.concat([num_x_test, ohe_x_test], axis=1)\n",
    "\n",
    "# 문자형인 데이터 열 확인 \n",
    "OH_x_train.columns = OH_x_train.columns.astype(str)\n",
    "OH_x_test.columns = OH_x_test.columns.astype(str)\n",
    "\n",
    "print(\"접근법 3의 MAE(원핫인코딩 ) :\", score_dataset(OH_x_train, OH_x_test, y_train, y_test))"
   ]
  },
  {
   "cell_type": "code",
   "execution_count": 27,
   "metadata": {},
   "outputs": [],
   "source": [
    "#3개의 접근법중 2,3이 성능이 좋음 \n",
    "# 1번인 범주형 열 삭제 방법은 성능이 안좋지만 경우에 따라 다름"
   ]
  }
 ],
 "metadata": {
  "kernelspec": {
   "display_name": "base",
   "language": "python",
   "name": "python3"
  },
  "language_info": {
   "codemirror_mode": {
    "name": "ipython",
    "version": 3
   },
   "file_extension": ".py",
   "mimetype": "text/x-python",
   "name": "python",
   "nbconvert_exporter": "python",
   "pygments_lexer": "ipython3",
   "version": "3.11.7"
  }
 },
 "nbformat": 4,
 "nbformat_minor": 2
}

{
 "cells": [
  {
   "cell_type": "code",
   "execution_count": 1,
   "metadata": {},
   "outputs": [],
   "source": [
    "import pandas as pd \n",
    "\n",
    "path = '../../data/melb_data.csv'\n",
    "mb = pd.read_csv(path)\n",
    "\n",
    "#전처리 \n",
    "mb =  mb.dropna(axis=0)\n",
    "\n",
    "#모델 분류 x (독립변수) / y (종속변수)\n",
    "y = mb['Price'] #종속변수\n",
    "x = mb[['Rooms', 'Bathroom', 'Landsize', 'Lattitude', 'Longtitude']] #독립변수\n",
    "\n",
    "from sklearn.model_selection import train_test_split\n",
    "\n",
    "x_train, x_test, y_train, y_test =\\\n",
    "train_test_split(x, y, random_state=42)"
   ]
  },
  {
   "cell_type": "code",
   "execution_count": 2,
   "metadata": {},
   "outputs": [],
   "source": [
    "#모델링 함수로 표현해보자 \n",
    "from sklearn.metrics import mean_absolute_error\n",
    "from sklearn.tree import DecisionTreeRegressor\n",
    "\n",
    "def get_mae(max_leaf_modes, x_train, x_test, y_train, y_test):\n",
    "    #max_leaf_modes >> 말단 노드의 최대 개수 \n",
    "    model = DecisionTreeRegressor(max_leaf_nodes=max_leaf_modes, random_state=42)\n",
    "    model.fit(x_train, y_train)\n",
    "    y_pred = model.predict(x_test)\n",
    "    mae = mean_absolute_error(y_test, y_pred)\n",
    "    return mae \n"
   ]
  },
  {
   "cell_type": "code",
   "execution_count": 3,
   "metadata": {},
   "outputs": [
    {
     "name": "stdout",
     "output_type": "stream",
     "text": [
      "최대 노드 개수: 5 \t\t MSE: 369120\n",
      "최대 노드 개수: 50 \t\t MSE: 270711\n",
      "최대 노드 개수: 500 \t\t MSE: 243840\n",
      "최대 노드 개수: 5000 \t\t MSE: 255896\n"
     ]
    }
   ],
   "source": [
    "for max_leaf_modes in [5, 50, 500, 5000]:\n",
    "    my_mae = get_mae(max_leaf_modes,  x_train, x_test, y_train, y_test)\n",
    "    print(\"최대 노드 개수: %d \\t\\t MAE: %d\" %(max_leaf_modes, my_mae) )\n",
    "    \n",
    "# mae 값이 작을수록 성능이 좋다. (오차가 적음)\n",
    "# 노드가 500일때가 최적합"
   ]
  }
 ],
 "metadata": {
  "kernelspec": {
   "display_name": "base",
   "language": "python",
   "name": "python3"
  },
  "language_info": {
   "codemirror_mode": {
    "name": "ipython",
    "version": 3
   },
   "file_extension": ".py",
   "mimetype": "text/x-python",
   "name": "python",
   "nbconvert_exporter": "python",
   "pygments_lexer": "ipython3",
   "version": "3.11.7"
  }
 },
 "nbformat": 4,
 "nbformat_minor": 2
}

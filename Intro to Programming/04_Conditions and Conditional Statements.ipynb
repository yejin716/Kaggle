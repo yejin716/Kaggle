{
 "cells": [
  {
   "cell_type": "code",
   "execution_count": 2,
   "metadata": {},
   "outputs": [],
   "source": [
    "#조건문 if\n",
    "def evaluate_temp(temp):\n",
    "    # 첫 디폴트값 \n",
    "    message = 'Normal temperature'\n",
    "    # temp가 38보다 크다면 Fever! 메시지를 출력해라\n",
    "    if temp > 38:\n",
    "        message = 'Fever!'\n",
    "    return message"
   ]
  },
  {
   "cell_type": "code",
   "execution_count": 4,
   "metadata": {},
   "outputs": [
    {
     "name": "stdout",
     "output_type": "stream",
     "text": [
      "Normal temperature\n",
      "Fever!\n"
     ]
    }
   ],
   "source": [
    "print(evaluate_temp(37))\n",
    "print(evaluate_temp(40))\n"
   ]
  },
  {
   "cell_type": "code",
   "execution_count": 7,
   "metadata": {},
   "outputs": [],
   "source": [
    "#if , else \n",
    "def evaluate_temp_with_else(temp):\n",
    "    # temp가 38보다 크다면 Fever! 아닌경우는 else문 실행 \n",
    "    if temp > 38:\n",
    "        message = 'Fever!'\n",
    "    else:\n",
    "        message = 'Normal temperature'\n",
    "    return message"
   ]
  },
  {
   "cell_type": "code",
   "execution_count": 8,
   "metadata": {},
   "outputs": [
    {
     "name": "stdout",
     "output_type": "stream",
     "text": [
      "Normal temperature\n",
      "Fever!\n"
     ]
    }
   ],
   "source": [
    "print(evaluate_temp_with_else(37))\n",
    "print(evaluate_temp_with_else(40))"
   ]
  },
  {
   "cell_type": "code",
   "execution_count": 9,
   "metadata": {},
   "outputs": [],
   "source": [
    "#if , elif, else \n",
    "def evaluate_temp_with_elif(temp):\n",
    "    # temp가 38보다 크다면 Fever! \n",
    "    if temp > 38:\n",
    "        message = 'Fever!'\n",
    "    #elif에도 또다른 조건 제시 해야함 \n",
    "    elif temp > 35:\n",
    "        message = 'Normal temperature'\n",
    "    else:\n",
    "        message = 'Low temperature'\n",
    "    return message"
   ]
  },
  {
   "cell_type": "code",
   "execution_count": 12,
   "metadata": {},
   "outputs": [
    {
     "data": {
      "text/plain": [
       "'Low temperature'"
      ]
     },
     "execution_count": 12,
     "metadata": {},
     "output_type": "execute_result"
    }
   ],
   "source": [
    "evaluate_temp_with_elif(20)"
   ]
  },
  {
   "cell_type": "code",
   "execution_count": 13,
   "metadata": {},
   "outputs": [],
   "source": [
    "#조건문을 가지고 계산을 수행할 수 있다 \n",
    "# earnings : 소득 \n",
    "# 소득이 12000보다 작으면 세금으로 25%납부 그 외 30%납부 \n",
    "# tax_owed : 내야할 세금\n",
    "def get_taxes(earnings):\n",
    "    if earnings < 12000:\n",
    "        tax_owed = .25 * earnings\n",
    "    else:\n",
    "        tax_owed = .30 * earnings\n",
    "    return tax_owed\n",
    "        "
   ]
  },
  {
   "cell_type": "code",
   "execution_count": 14,
   "metadata": {},
   "outputs": [
    {
     "name": "stdout",
     "output_type": "stream",
     "text": [
      "2250.0\n",
      "4500.0\n"
     ]
    }
   ],
   "source": [
    "ana_taxes = get_taxes(9000)\n",
    "bob_taxes = get_taxes(15000)\n",
    "\n",
    "print(ana_taxes)\n",
    "print(bob_taxes)"
   ]
  },
  {
   "cell_type": "code",
   "execution_count": 16,
   "metadata": {},
   "outputs": [
    {
     "name": "stdout",
     "output_type": "stream",
     "text": [
      "5\n"
     ]
    }
   ],
   "source": [
    "# 체중에 따른 투여할 약의 복용량 계산 함수 \n",
    "# if, elif, else 사용 \n",
    "\n",
    "def get_dose(weight):\n",
    "    #체중이 5.2kg 미만이면 1.25ml의 복용량\n",
    "    if weight < 5.2:\n",
    "        dose = 1.25\n",
    "    elif weight < 7.9:\n",
    "        dose = 2.5\n",
    "    elif weight < 10.4:\n",
    "        dose = 3.75\n",
    "    elif weight < 15.9:\n",
    "        dose = 5\n",
    "    elif weight < 21.2:\n",
    "        dose = 7.5\n",
    "    #체중이 21.2kg 이상이면 10ml의 복용량   \n",
    "    else:\n",
    "        dose = 10\n",
    "    return dose    \n",
    "\n",
    "print(get_dose(12))"
   ]
  },
  {
   "cell_type": "code",
   "execution_count": null,
   "metadata": {},
   "outputs": [],
   "source": []
  }
 ],
 "metadata": {
  "kernelspec": {
   "display_name": "base",
   "language": "python",
   "name": "python3"
  },
  "language_info": {
   "codemirror_mode": {
    "name": "ipython",
    "version": 3
   },
   "file_extension": ".py",
   "mimetype": "text/x-python",
   "name": "python",
   "nbconvert_exporter": "python",
   "pygments_lexer": "ipython3",
   "version": "3.11.7"
  }
 },
 "nbformat": 4,
 "nbformat_minor": 2
}

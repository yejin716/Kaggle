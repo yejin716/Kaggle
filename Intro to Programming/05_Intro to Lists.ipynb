{
 "cells": [
  {
   "cell_type": "code",
   "execution_count": 1,
   "metadata": {},
   "outputs": [
    {
     "name": "stdout",
     "output_type": "stream",
     "text": [
      "<class 'str'>\n",
      "pink primrose,hard-leaved pocket orchid,canterbury bells,sweet pea,english marigold,tiger lily,moon orchid,bird of paradise,monkshood,globe thistle\n"
     ]
    }
   ],
   "source": [
    "flowers = \"pink primrose,hard-leaved pocket orchid,canterbury bells,sweet pea,english marigold,tiger lily,moon orchid,bird of paradise,monkshood,globe thistle\"\n",
    "\n",
    "print(type(flowers))\n",
    "print(flowers)"
   ]
  },
  {
   "cell_type": "code",
   "execution_count": 2,
   "metadata": {},
   "outputs": [
    {
     "name": "stdout",
     "output_type": "stream",
     "text": [
      "<class 'list'>\n",
      "['pink primrose', 'hard-leaved pocket orchid', 'canterbury bells', 'sweet pea', 'english marigold', 'tiger lily', 'moon orchid', 'bird of paradise', 'monkshood', 'globe thistle']\n"
     ]
    }
   ],
   "source": [
    "#리스트 \n",
    "flowers_list = [\"pink primrose\", \"hard-leaved pocket orchid\", \"canterbury bells\", \"sweet pea\", \"english marigold\", \"tiger lily\", \"moon orchid\", \"bird of paradise\", \"monkshood\", \"globe thistle\"]\n",
    "\n",
    "print(type(flowers_list))\n",
    "print(flowers_list)"
   ]
  },
  {
   "cell_type": "code",
   "execution_count": 3,
   "metadata": {},
   "outputs": [
    {
     "name": "stdout",
     "output_type": "stream",
     "text": [
      "10\n"
     ]
    }
   ],
   "source": [
    "print(len(flowers_list))"
   ]
  },
  {
   "cell_type": "code",
   "execution_count": 5,
   "metadata": {},
   "outputs": [
    {
     "name": "stdout",
     "output_type": "stream",
     "text": [
      "First entry: pink primrose\n",
      "Second entry: hard-leaved pocket orchid\n",
      "Last entry: globe thistle\n"
     ]
    }
   ],
   "source": [
    "#index \n",
    "# 첫번째 값은 무조건 index 번호 0 부터 시작 \n",
    "\n",
    "print(\"First entry:\", flowers_list[0])\n",
    "print(\"Second entry:\", flowers_list[1])\n",
    "\n",
    "# 총 길이는 10이지만 0부터 시작하니 마지막 index 번호는 9 \n",
    "print(\"Last entry:\", flowers_list[9])"
   ]
  },
  {
   "cell_type": "code",
   "execution_count": 7,
   "metadata": {},
   "outputs": [
    {
     "data": {
      "text/plain": [
       "['pink primrose',\n",
       " 'hard-leaved pocket orchid',\n",
       " 'canterbury bells',\n",
       " 'sweet pea',\n",
       " 'english marigold',\n",
       " 'tiger lily',\n",
       " 'moon orchid',\n",
       " 'bird of paradise',\n",
       " 'monkshood',\n",
       " 'globe thistle']"
      ]
     },
     "execution_count": 7,
     "metadata": {},
     "output_type": "execute_result"
    }
   ],
   "source": [
    "flowers_list"
   ]
  },
  {
   "cell_type": "code",
   "execution_count": 6,
   "metadata": {},
   "outputs": [
    {
     "name": "stdout",
     "output_type": "stream",
     "text": [
      "First three entries: ['pink primrose', 'hard-leaved pocket orchid', 'canterbury bells']\n",
      "Final two entries: ['monkshood', 'globe thistle']\n"
     ]
    }
   ],
   "source": [
    "#슬라이싱 (Slicing)\n",
    "# 해당 번째까지 값을 가져올때 \n",
    "print(\"First three entries:\", flowers_list[:3])#0번에서 2번째까지 \n",
    "#뒤에서부터 가져올려면 마지막 값이 -1이 됨 \n",
    "print(\"Final two entries:\", flowers_list[-2:])"
   ]
  },
  {
   "cell_type": "code",
   "execution_count": 8,
   "metadata": {},
   "outputs": [
    {
     "data": {
      "text/plain": [
       "['pink primrose',\n",
       " 'hard-leaved pocket orchid',\n",
       " 'canterbury bells',\n",
       " 'sweet pea',\n",
       " 'english marigold',\n",
       " 'tiger lily',\n",
       " 'moon orchid',\n",
       " 'bird of paradise',\n",
       " 'monkshood']"
      ]
     },
     "execution_count": 8,
     "metadata": {},
     "output_type": "execute_result"
    }
   ],
   "source": [
    "#리스트안에 있는 값 제거 remove\n",
    "flowers_list.remove(\"globe thistle\")\n",
    "flowers_list"
   ]
  },
  {
   "cell_type": "code",
   "execution_count": 9,
   "metadata": {},
   "outputs": [
    {
     "data": {
      "text/plain": [
       "['pink primrose',\n",
       " 'hard-leaved pocket orchid',\n",
       " 'canterbury bells',\n",
       " 'sweet pea',\n",
       " 'english marigold',\n",
       " 'tiger lily',\n",
       " 'moon orchid',\n",
       " 'bird of paradise',\n",
       " 'monkshood',\n",
       " 'snapdragon']"
      ]
     },
     "execution_count": 9,
     "metadata": {},
     "output_type": "execute_result"
    }
   ],
   "source": [
    "#리스트에 값 추가 append\n",
    "flowers_list.append(\"snapdragon\")\n",
    "flowers_list"
   ]
  },
  {
   "cell_type": "code",
   "execution_count": 12,
   "metadata": {},
   "outputs": [
    {
     "name": "stdout",
     "output_type": "stream",
     "text": [
      "Length of the list: 7\n",
      "Entry at index 2: 172\n",
      "Minimum: 128\n",
      "Maximum: 191\n",
      "Total books sold in one week: 1107\n",
      "Average books sold in first five days: 153.8\n"
     ]
    }
   ],
   "source": [
    "#리스트안에는 문자열뿐만 아니라 정수, 실수, 부울 타입까지 올수있다. \n",
    "hardcover_sales = [139, 128, 172, 139, 191, 168, 170]\n",
    "\n",
    "print(\"Length of the list:\", len(hardcover_sales))\n",
    "print(\"Entry at index 2:\", hardcover_sales[2])\n",
    "\n",
    "print(\"Minimum:\", min(hardcover_sales))\n",
    "print(\"Maximum:\", max(hardcover_sales))\n",
    "print(\"Total books sold in one week:\", sum(hardcover_sales))\n",
    "print(\"Average books sold in first five days:\", sum(hardcover_sales[:5])/5) #5일동안 팔린 서적의 평균 수 "
   ]
  },
  {
   "cell_type": "code",
   "execution_count": null,
   "metadata": {},
   "outputs": [],
   "source": []
  },
  {
   "cell_type": "code",
   "execution_count": null,
   "metadata": {},
   "outputs": [],
   "source": []
  },
  {
   "cell_type": "code",
   "execution_count": null,
   "metadata": {},
   "outputs": [],
   "source": []
  }
 ],
 "metadata": {
  "kernelspec": {
   "display_name": "base",
   "language": "python",
   "name": "python3"
  },
  "language_info": {
   "codemirror_mode": {
    "name": "ipython",
    "version": 3
   },
   "file_extension": ".py",
   "mimetype": "text/x-python",
   "name": "python",
   "nbconvert_exporter": "python",
   "pygments_lexer": "ipython3",
   "version": "3.11.7"
  }
 },
 "nbformat": 4,
 "nbformat_minor": 2
}
